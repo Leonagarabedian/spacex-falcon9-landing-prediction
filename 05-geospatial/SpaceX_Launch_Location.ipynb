{
 "cells": [
  {
   "cell_type": "markdown",
   "metadata": {},
   "source": [
    "#  Stage 05 — Interactive Visual Analytics (Folium)\n",
    "\n",
    "# Overview\n",
    "\n",
    "In this stage, we extend the exploratory analysis of Falcon 9 launch data by introducing interactive geospatial visualizations with Folium.\n",
    "While previous analyses (using Matplotlib and Seaborn) highlighted correlations between payload, orbit, and launch outcomes, here we focus on the geographical dimension — specifically, how launch site location and its proximities may influence mission success.\n",
    "\n",
    "Understanding these spatial patterns is valuable because the choice of launch site is a strategic decision, influenced by trajectory paths, recovery feasibility, and environmental considerations.\n",
    "\n",
    "---\n",
    "\n",
    "# Objectives\n",
    "\n",
    "This lab explores launch sites interactively through the following tasks:\n",
    "\n",
    "* Map Launch Sites — Plot all SpaceX launch locations on an interactive map.\n",
    "\n",
    "* Overlay Outcomes — Visualize successful and failed launches per site.\n",
    "\n",
    "* Distance Analysis — Compute distances between each launch site and its nearby features (e.g., coastline, cities).\n",
    "\n",
    "By completing these tasks, we aim to reveal geospatial insights that complement earlier statistical findings."
   ]
  },
  {
   "cell_type": "markdown",
   "metadata": {},
   "source": [
    "## Set Up"
   ]
  },
  {
   "cell_type": "code",
   "execution_count": null,
   "metadata": {},
   "outputs": [],
   "source": [
    "import folium\n",
    "import pandas as pd"
   ]
  },
  {
   "cell_type": "code",
   "execution_count": null,
   "metadata": {},
   "outputs": [],
   "source": [
    "# Import folium MarkerCluster plugin\n",
    "from folium.plugins import MarkerCluster\n",
    "# Import folium MousePosition plugin\n",
    "from folium.plugins import MousePosition\n",
    "# Import folium DivIcon plugin\n",
    "from folium.features import DivIcon"
   ]
  },
  {
   "cell_type": "markdown",
   "metadata": {},
   "source": [
    "## Mark Launch Sites on a Map\n",
    "\n",
    "The first step is to visualize the geographic distribution of SpaceX launch sites.\n",
    "Using each site’s latitude and longitude, we can place them on an interactive Folium map to establish a baseline view of the infrastructure.\n",
    "\n",
    "We will use the dataset spacex_launch_geo.csv, an augmented version of the launch records that includes geospatial attributes for each site."
   ]
  },
  {
   "cell_type": "code",
   "execution_count": null,
   "metadata": {},
   "outputs": [],
   "source": [
    "# Download and read the `spacex_launch_geo.csv`\n",
    "spacex_df=pd.read_csv('spacex_launch_geo.csv')"
   ]
  },
  {
   "cell_type": "markdown",
   "metadata": {},
   "source": [
    "Coordinates for each site:\n"
   ]
  },
  {
   "cell_type": "code",
   "execution_count": null,
   "metadata": {},
   "outputs": [],
   "source": [
    "# Select relevant sub-columns: `Launch Site`, `Lat(Latitude)`, `Long(Longitude)`, `class`\n",
    "spacex_df = spacex_df[['Launch Site', 'Lat', 'Long', 'class']]\n",
    "launch_sites_df = spacex_df.groupby(['Launch Site'], as_index=False).first()\n",
    "launch_sites_df = launch_sites_df[['Launch Site', 'Lat', 'Long']]\n",
    "launch_sites_df"
   ]
  },
  {
   "cell_type": "markdown",
   "metadata": {},
   "source": [
    "# Visualizing Launch Coordinates\n",
    "\n",
    "Raw latitude and longitude values are not very intuitive to interpret on their own. Instead of reading geographic coordinates as numbers, we can make them more meaningful by plotting them on a map.\n",
    "\n",
    "To start, we create a Folium map object centered at the NASA Johnson Space Center (Houston, Texas). This will serve as our initial reference point before adding markers for each launch site."
   ]
  },
  {
   "cell_type": "code",
   "execution_count": null,
   "metadata": {},
   "outputs": [],
   "source": [
    "# Start location is NASA Johnson Space Center\n",
    "nasa_coordinate = [29.559684888503615, -95.0830971930759]\n",
    "site_map = folium.Map(location=nasa_coordinate, zoom_start=10)"
   ]
  },
  {
   "cell_type": "markdown",
   "metadata": {},
   "source": [
    "`folium.Circle` is used to add a highlighted circle area with a text label on a specific coordinate."
   ]
  },
  {
   "cell_type": "code",
   "execution_count": null,
   "metadata": {},
   "outputs": [],
   "source": [
    "# Create a blue circle at NASA Johnson Space Center's coordinate with a popup label showing its name\n",
    "circle = folium.Circle(nasa_coordinate, radius=1000, color='blue', fill=True).add_child(folium.Popup('NASA Johnson Space Center'))\n",
    "# Create a blue circle at NASA Johnson Space Center's coordinate with a icon showing its name\n",
    "marker = folium.map.Marker(\n",
    "    nasa_coordinate,\n",
    "    # Create an icon as a text label\n",
    "    icon=DivIcon(\n",
    "        icon_size=(20,20),\n",
    "        icon_anchor=(0,0),\n",
    "        html='<div style=\"font-size: 12; color:blue;\"><b>%s</b></div>' % 'NASA JSC',\n",
    "        )\n",
    "    )\n",
    "site_map.add_child(circle)\n",
    "site_map.add_child(marker)"
   ]
  },
  {
   "cell_type": "markdown",
   "metadata": {},
   "source": [
    "You see a circle near the city of Houston and you can zoom-in to see a larger circle.\n"
   ]
  },
  {
   "cell_type": "markdown",
   "metadata": {},
   "source": [
    "## Adding Launch Site Markers\n",
    "\n",
    "Next, we enhance the map by marking each launch site in the dataset launch_sites. To make the visualization more informative, we will use two elements:\n",
    "\n",
    "folium.Circle — to highlight the area around each site.\n",
    "\n",
    "folium.Marker — to label the site with its name.\n",
    "\n",
    "This combination allows us to both locate and identify each launch site directly on the interactive map."
   ]
  },
  {
   "cell_type": "code",
   "execution_count": null,
   "metadata": {},
   "outputs": [],
   "source": [
    "# Iterate over each launch site\n",
    "site_map = folium.Map(location=nasa_coordinate, zoom_start=10)\n",
    "for idx, row in launch_sites_df.iterrows():\n",
    "    coordinate = [row['Lat'], row['Long']]\n",
    "    \n",
    "    circle = folium.Circle(\n",
    "        location=coordinate,\n",
    "        radius=1000,\n",
    "        color='#000000', \n",
    "        fill=True\n",
    "    ).add_child(folium.Popup(row['Launch Site']))\n",
    "    \n",
    "    marker = folium.map.Marker(\n",
    "        location=coordinate,\n",
    "        icon=DivIcon(\n",
    "            icon_size=(20,20),\n",
    "            icon_anchor=(0,0),\n",
    "            html='<div style=\"font-size: 12; color:#d35400;\"><b>%s</b></div>' % row['Launch Site'],\n",
    "        )\n",
    "    )\n",
    "    \n",
    "    site_map.add_child(circle)\n",
    "    site_map.add_child(marker)\n",
    "\n",
    "site_map"
   ]
  },
  {
   "cell_type": "markdown",
   "metadata": {},
   "source": [
    "The launch sites are marked in orange on the west coast near Los Angeles and the east coast near Florida. So they are not in proxomity of the equator line but all very close to the coast. "
   ]
  },
  {
   "cell_type": "markdown",
   "metadata": {},
   "source": [
    "# Success/failed launches for each site on the map"
   ]
  },
  {
   "cell_type": "markdown",
   "metadata": {},
   "source": [
    "The map is enhanced by adding the launch outcomes for each site, to see which sites have high success rates. The \"Class\" colum from our data will provide insight."
   ]
  },
  {
   "cell_type": "code",
   "execution_count": null,
   "metadata": {},
   "outputs": [],
   "source": [
    "spacex_df.tail(10)"
   ]
  },
  {
   "cell_type": "markdown",
   "metadata": {},
   "source": [
    "## Visualizing Launch Records\n",
    "\n",
    "To enrich the map, we now add markers for individual launch records:\n",
    "\n",
    "Green markers indicate successful launches (class = 1).\n",
    "\n",
    "Red markers indicate failed launches (class = 0).\n",
    "\n",
    "Since launches occur at only four distinct sites, many records share identical coordinates. Plotting them directly would clutter the map. To address this, we use marker clustering, which groups overlapping markers into expandable clusters for better readability.\n",
    "\n",
    "We begin by creating a MarkerCluster object to manage these groups."
   ]
  },
  {
   "cell_type": "code",
   "execution_count": null,
   "metadata": {},
   "outputs": [],
   "source": [
    "marker_cluster = MarkerCluster()"
   ]
  },
  {
   "cell_type": "markdown",
   "metadata": {},
   "source": [
    "Dataframe called `marker_color` to store the marker colors based on the `class` value:\n"
   ]
  },
  {
   "cell_type": "code",
   "execution_count": null,
   "metadata": {},
   "outputs": [],
   "source": [
    "# Apply a function to check the value of `class` column\n",
    "# If class=1, marker_color value will be green\n",
    "# If class=0, marker_color value will be red\n",
    "spacex_df['marker_color'] = spacex_df['class'].apply(lambda x: 'green' if x == 1 else 'red')"
   ]
  },
  {
   "cell_type": "markdown",
   "metadata": {},
   "source": [
    "For each launch result in `spacex_df` data frame,  `folium.Marker` to `marker_cluster` added\n"
   ]
  },
  {
   "cell_type": "code",
   "execution_count": null,
   "metadata": {},
   "outputs": [],
   "source": [
    "# Add marker_cluster to current site_map\n",
    "site_map.add_child(marker_cluster)\n",
    "\n",
    "for index, record in spacex_df.iterrows():\n",
    "    coordinate = [record['Lat'], record['Long']]\n",
    "    \n",
    "    marker = folium.Marker(\n",
    "        location=coordinate,\n",
    "        icon=folium.Icon(color='white', icon_color=record['marker_color']),\n",
    "        popup=f\"Launch Site: {record['Launch Site']}<br>Status: {'Success' if record['class'] == 1 else 'Failure'}\"\n",
    "    )\n",
    "    marker_cluster.add_child(marker)\n",
    "\n",
    "site_map.add_child(marker_cluster)\n",
    "site_map\n"
   ]
  },
  {
   "cell_type": "markdown",
   "metadata": {},
   "source": [
    "# The distances between a launch site to its proximities"
   ]
  },
  {
   "cell_type": "markdown",
   "metadata": {},
   "source": [
    "Add a `MousePosition` on the map to get coordinate for a mouse over a point on the map:"
   ]
  },
  {
   "cell_type": "code",
   "execution_count": null,
   "metadata": {
    "scrolled": true
   },
   "outputs": [],
   "source": [
    "# Add Mouse Position to get the coordinate (Lat, Long) for a mouse over on the map\n",
    "formatter = \"function(num) {return L.Util.formatNum(num, 5);};\"\n",
    "mouse_position = MousePosition(\n",
    "    position='topright',\n",
    "    separator=' Long: ',\n",
    "    empty_string='NaN',\n",
    "    lng_first=False,\n",
    "    num_digits=20,\n",
    "    prefix='Lat:',\n",
    "    lat_formatter=formatter,\n",
    "    lng_formatter=formatter,\n",
    ")\n",
    "\n",
    "site_map.add_child(mouse_position)\n",
    "site_map"
   ]
  },
  {
   "cell_type": "code",
   "execution_count": null,
   "metadata": {},
   "outputs": [],
   "source": [
    "from math import sin, cos, sqrt, atan2, radians\n",
    "\n",
    "def calculate_distance(lat1, lon1, lat2, lon2):\n",
    "    # approximate radius of earth in km\n",
    "    R = 6373.0\n",
    "\n",
    "    lat1 = radians(lat1)\n",
    "    lon1 = radians(lon1)\n",
    "    lat2 = radians(lat2)\n",
    "    lon2 = radians(lon2)\n",
    "\n",
    "    dlon = lon2 - lon1\n",
    "    dlat = lat2 - lat1\n",
    "\n",
    "    a = sin(dlat / 2)**2 + cos(lat1) * cos(lat2) * sin(dlon / 2)**2\n",
    "    c = 2 * atan2(sqrt(a), sqrt(1 - a))\n",
    "\n",
    "    distance = R * c\n",
    "    return distance"
   ]
  },
  {
   "cell_type": "markdown",
   "metadata": {},
   "source": [
    "## Distance between coasline and launch site"
   ]
  },
  {
   "cell_type": "code",
   "execution_count": null,
   "metadata": {},
   "outputs": [],
   "source": [
    "# find coordinate of the closet coastline\n",
    "# e.g.,: Lat: 28.56367  Lon: -80.57163\n",
    "launch_site_coord = (28.5623, -80.5774)\n",
    "coastline_coord = (28.56285, -80.56789)\n",
    "\n",
    "# distance_coastline = calculate_distance(launch_site_lat, launch_site_lon, coastline_lat, coastline_lon)\n",
    "distance_coastline = calculate_distance(\n",
    "    launch_site_coord[0], launch_site_coord[1],\n",
    "    coastline_coord[0], coastline_coord[1]\n",
    ")\n",
    "distance_coastline"
   ]
  },
  {
   "cell_type": "code",
   "execution_count": null,
   "metadata": {},
   "outputs": [],
   "source": [
    "# Create and add a folium.Marker on your selected closest coastline point on the map\n",
    "# Display the distance between coastline point and launch site using the icon property \n",
    "# for example\n",
    "distance_marker = folium.Marker(\n",
    "    location=coastline_coord,\n",
    "    icon=DivIcon(\n",
    "        icon_size=(20,20),\n",
    "        icon_anchor=(0,0),\n",
    "        html=f'<div style=\"font-size: 12px; color:#d35400;\"><b>{distance_coastline:.2f} KM</b></div>'\n",
    "    )\n",
    ")\n",
    "\n",
    "site_map"
   ]
  },
  {
   "cell_type": "markdown",
   "metadata": {},
   "source": [
    "## `PolyLine` between a launch site to the selected coastline point\n"
   ]
  },
  {
   "cell_type": "code",
   "execution_count": null,
   "metadata": {},
   "outputs": [],
   "source": [
    "# Create a `folium.PolyLine` object using the coastline coordinates and launch site coordinate\n",
    "lines=folium.PolyLine(locations=[launch_site_coord, coastline_coord], weight=1)\n",
    "site_map.add_child(lines)"
   ]
  },
  {
   "cell_type": "markdown",
   "metadata": {},
   "source": [
    "*TODO:* Similarly, you can draw a line betwee a launch site to its closest city, railway, highway, etc. You need to use `MousePosition` to find the their coordinates on the map first\n"
   ]
  },
  {
   "cell_type": "markdown",
   "metadata": {},
   "source": [
    "A railway map symbol may look like this:\n"
   ]
  },
  {
   "cell_type": "markdown",
   "metadata": {},
   "source": [
    "### Distance between City Point and launch site"
   ]
  },
  {
   "cell_type": "code",
   "execution_count": null,
   "metadata": {},
   "outputs": [],
   "source": [
    "city_point_coord = [28.61256, -80.80959]\n",
    "distance_city = calculate_distance(launch_site_coord[0], launch_site_coord[1], city_point_coord[0], city_point_coord[1])\n",
    "\n",
    "distance_marker = folium.Marker(\n",
    "    location=city_point_coord,\n",
    "    icon=DivIcon(\n",
    "        icon_size=(150,36),\n",
    "        icon_anchor=(0,0),\n",
    "        html=f'<div style=\"font-size: 12px; color:#007849;\"><b>{distance_city:.2f} KM</b></div>'\n",
    "    )\n",
    ")\n",
    "site_map.add_child(distance_marker)\n",
    "\n",
    "line = folium.PolyLine(\n",
    "    locations=[launch_site_coord, city_point_coord],\n",
    "    weight=2,\n",
    "    color='green',\n",
    "    opacity=0.7\n",
    ")\n",
    "site_map.add_child(line)\n",
    "site_map"
   ]
  },
  {
   "cell_type": "code",
   "execution_count": null,
   "metadata": {},
   "outputs": [],
   "source": []
  },
  {
   "cell_type": "markdown",
   "metadata": {},
   "source": [
    "## Distance between trainpoint and launch site"
   ]
  },
  {
   "cell_type": "code",
   "execution_count": null,
   "metadata": {},
   "outputs": [],
   "source": [
    "train_point_coord = [28.56428, -80.58673]\n",
    "distance_train = calculate_distance(launch_site_coord[0], launch_site_coord[1], train_point_coord[0], train_point_coord[1])\n",
    "\n",
    "distance_marker = folium.Marker(\n",
    "    location=train_point_coord,\n",
    "    icon=DivIcon(\n",
    "        icon_size=(150,36),\n",
    "        icon_anchor=(0,0),\n",
    "        html=f'<div style=\"font-size: 12px; color:#007849;\"><b>{distance_train:.2f} KM</b></div>'\n",
    "    )\n",
    ")\n",
    "site_map.add_child(distance_marker)\n",
    "\n",
    "line = folium.PolyLine(\n",
    "    locations=[launch_site_coord, train_point_coord],\n",
    "    weight=2,\n",
    "    color='blue',\n",
    "    opacity=0.7\n",
    ")\n",
    "site_map.add_child(line)\n",
    "site_map"
   ]
  },
  {
   "cell_type": "code",
   "execution_count": null,
   "metadata": {},
   "outputs": [],
   "source": []
  },
  {
   "cell_type": "code",
   "execution_count": null,
   "metadata": {},
   "outputs": [],
   "source": []
  },
  {
   "cell_type": "code",
   "execution_count": null,
   "metadata": {},
   "outputs": [],
   "source": []
  },
  {
   "cell_type": "code",
   "execution_count": null,
   "metadata": {},
   "outputs": [],
   "source": []
  },
  {
   "cell_type": "markdown",
   "metadata": {},
   "source": [
    "## Distance between Highway point and launch site"
   ]
  },
  {
   "cell_type": "code",
   "execution_count": null,
   "metadata": {},
   "outputs": [],
   "source": [
    "high_point_coord = [28.56278, -80.57068]\n",
    "distance_high = calculate_distance(launch_site_coord[0], launch_site_coord[1], high_point_coord[0], high_point_coord[1])\n",
    "\n",
    "distance_marker = folium.Marker(\n",
    "    location=high_point_coord,\n",
    "    icon=DivIcon(\n",
    "        icon_size=(150,36),\n",
    "        icon_anchor=(0,0),\n",
    "        html=f'<div style=\"font-size: 12px; color:#007849;\"><b>{distance_high:.2f} KM</b></div>'\n",
    "    )\n",
    ")\n",
    "site_map.add_child(distance_marker)\n",
    "\n",
    "line = folium.PolyLine(\n",
    "    locations=[launch_site_coord, high_point_coord],\n",
    "    weight=2,\n",
    "    color='green',\n",
    "    opacity=0.7\n",
    ")\n",
    "site_map.add_child(line)\n",
    "site_map"
   ]
  },
  {
   "cell_type": "markdown",
   "metadata": {},
   "source": [
    "## Authors\n"
   ]
  },
  {
   "cell_type": "markdown",
   "metadata": {},
   "source": [
    "[Pratiksha Verma](https://www.linkedin.com/in/pratiksha-verma-6487561b1/)\n"
   ]
  },
  {
   "cell_type": "markdown",
   "metadata": {},
   "source": [
    "<!--## Change Log--!>\n"
   ]
  },
  {
   "cell_type": "markdown",
   "metadata": {},
   "source": [
    "<!--| Date (YYYY-MM-DD) | Version | Changed By      | Change Description      |\n",
    "| ----------------- | ------- | -------------   | ----------------------- |\n",
    "| 2022-11-09        | 1.0     | Pratiksha Verma | Converted initial version to Jupyterlite|--!>\n"
   ]
  },
  {
   "cell_type": "markdown",
   "metadata": {},
   "source": [
    "### <h3 align=\"center\"> IBM Corporation 2022. All rights reserved. <h3/>\n"
   ]
  }
 ],
 "metadata": {
  "kernelspec": {
   "display_name": "Python 3 (ipykernel)",
   "language": "python",
   "name": "python3"
  },
  "language_info": {
   "codemirror_mode": {
    "name": "ipython",
    "version": 3
   },
   "file_extension": ".py",
   "mimetype": "text/x-python",
   "name": "python",
   "nbconvert_exporter": "python",
   "pygments_lexer": "ipython3",
   "version": "3.10.11"
  },
  "prev_pub_hash": "0f9db842b41c859223722809f8be602f5df9334348bd206b11e3af58c30eb345"
 },
 "nbformat": 4,
 "nbformat_minor": 4
}
