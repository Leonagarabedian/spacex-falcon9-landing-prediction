{
 "cells": [
  {
   "cell_type": "markdown",
   "metadata": {},
   "source": [
    "# Stage 03 — SQL Analysis (SQLite)\n",
    "\n",
    "This stage uses **SQL exploration** to analyze the Falcon 9 dataset stored in a relational database.  \n",
    "The goal is to extract insights on launch sites, payloads, booster versions, and landing outcomes, building the foundation for predictive modeling of first-stage recovery.\n",
    "\n",
    "---\n"
   ]
  },
  {
   "cell_type": "markdown",
   "metadata": {},
   "source": [
    "## Introduction\n",
    "\n",
    "In this stage we:  \n",
    "1. Load the Falcon 9 dataset into a SQLite database.  \n",
    "2. Run structured SQL queries to answer engineering and business questions.  \n",
    "3. Interpret results to support predictive modeling of Falcon 9 landings.  \n",
    "\n",
    "SQL allows efficient data exploration, integrity checks, and aggregation — skills expected in real-world data science pipelines.  \n",
    "\n",
    "---"
   ]
  },
  {
   "cell_type": "markdown",
   "metadata": {},
   "source": [
    "## Dataset Overview  \n",
    "\n",
    "- **Provider**: SpaceX (Falcon 9 launch history)  \n",
    "- **Focus**: Payload, booster, launch site, and landing outcome records  \n",
    "- **Relevance**: First-stage recovery determines whether launch costs remain at ~62M (SpaceX) or balloon toward ~165M (competitors).  \n",
    "\n",
    "Being able to **predict landing success** translates directly into competitive bidding insights and operational forecasting.  \n",
    "\n",
    "---"
   ]
  },
  {
   "cell_type": "markdown",
   "metadata": {},
   "source": [
    "## Connecting to the Database  \n",
    "\n",
    "The dataset is stored locally as a CSV and imported into SQLite.  \n",
    "From here, SQL queries provide structured exploration.  \n",
    "\n",
    "---"
   ]
  },
  {
   "cell_type": "code",
   "execution_count": null,
   "metadata": {},
   "outputs": [],
   "source": [
    "!pip install sqlalchemy==1.4.1"
   ]
  },
  {
   "cell_type": "code",
   "execution_count": null,
   "metadata": {},
   "outputs": [],
   "source": [
    "!pip install ipython-sql\n",
    "!pip install ipython-sql prettytable"
   ]
  },
  {
   "cell_type": "code",
   "execution_count": null,
   "metadata": {},
   "outputs": [],
   "source": [
    "%load_ext sql"
   ]
  },
  {
   "cell_type": "code",
   "execution_count": null,
   "metadata": {},
   "outputs": [],
   "source": [
    "import csv, sqlite3\n",
    "import prettytable\n",
    "prettytable.DEFAULT = 'DEFAULT'\n",
    "\n",
    "con = sqlite3.connect(\"my_data1.db\")\n",
    "cur = con.cursor()"
   ]
  },
  {
   "cell_type": "code",
   "execution_count": null,
   "metadata": {},
   "outputs": [],
   "source": [
    "!pip install -q pandas"
   ]
  },
  {
   "cell_type": "code",
   "execution_count": null,
   "metadata": {},
   "outputs": [],
   "source": [
    "%sql sqlite:///my_data1.db"
   ]
  },
  {
   "cell_type": "code",
   "execution_count": null,
   "metadata": {},
   "outputs": [],
   "source": [
    "import pandas as pd\n",
    "df = pd.read_csv(\"Spacex.csv\")\n",
    "df.to_sql(\"SPACEXTBL\", con, if_exists='replace', index=False,method=\"multi\")"
   ]
  },
  {
   "cell_type": "markdown",
   "metadata": {},
   "source": [
    "**Note:This below code is added to remove blank rows from table**\n"
   ]
  },
  {
   "cell_type": "code",
   "execution_count": null,
   "metadata": {},
   "outputs": [],
   "source": [
    "#DROP THE TABLE IF EXISTS\n",
    "\n",
    "%sql DROP TABLE IF EXISTS SPACEXTABLE;"
   ]
  },
  {
   "cell_type": "code",
   "execution_count": null,
   "metadata": {},
   "outputs": [],
   "source": [
    "%sql create table SPACEXTABLE as select * from SPACEXTBL where Date is not null"
   ]
  },
  {
   "cell_type": "markdown",
   "metadata": {},
   "source": [
    "## SQL Exploration Tasks  \n",
    "\n",
    "Each task is framed as a business/engineering question, followed by interpretation of the results.  \n"
   ]
  },
  {
   "cell_type": "markdown",
   "metadata": {},
   "source": [
    "### Task 1 — Identify Unique Launch Sites  \n",
    "**Why:** Establish operational diversity.  \n",
    "**Insight:** Reveals the number of active SpaceX facilities.  \n",
    "\n",
    "---"
   ]
  },
  {
   "cell_type": "code",
   "execution_count": null,
   "metadata": {},
   "outputs": [],
   "source": [
    "%%sql\n",
    "SELECT DISTINCT \"Launch_Site\"\n",
    "FROM SPACEXTABLE;"
   ]
  },
  {
   "cell_type": "markdown",
   "metadata": {},
   "source": [
    "### Task 2 — Launch Sites Beginning with \"CCA\"  \n",
    "**Why:** Focus on Cape Canaveral launches.  \n",
    "**Insight:** Validate data quality and confirm expected site codes.  \n",
    "\n",
    "---"
   ]
  },
  {
   "cell_type": "code",
   "execution_count": null,
   "metadata": {},
   "outputs": [],
   "source": [
    "%%sql\n",
    "SELECT *\n",
    "FROM SPACEXTABLE\n",
    "WHERE Launch_Site LIKE 'CCA%'\n",
    "LIMIT 5;"
   ]
  },
  {
   "cell_type": "markdown",
   "metadata": {},
   "source": [
    "### Task 3 — Total Payload Mass for NASA (CRS) Missions  \n",
    "**Why:** Quantify total cargo delivered under NASA’s CRS program.  \n",
    "**Insight:** Demonstrates SpaceX’s logistics role with the ISS.  \n",
    "\n",
    "---"
   ]
  },
  {
   "cell_type": "code",
   "execution_count": null,
   "metadata": {},
   "outputs": [],
   "source": [
    "%%sql\n",
    "SELECT SUM(PAYLOAD_MASS__KG_)\n",
    "FROM SPACEXTABLE\n",
    "Where Customer = \"NASA (CRS)\";"
   ]
  },
  {
   "cell_type": "markdown",
   "metadata": {},
   "source": [
    "### Task 4 — Average Payload for Booster *F9 v1.1*  \n",
    "**Why:** Benchmark payload capacity of an early Falcon 9 booster.  \n",
    "**Insight:** Reference point for comparing later upgrades.  \n",
    "\n",
    "---"
   ]
  },
  {
   "cell_type": "code",
   "execution_count": null,
   "metadata": {},
   "outputs": [],
   "source": [
    "%%sql\n",
    "SELECT AVG(PAYLOAD_MASS__KG_)\n",
    "FROM SPACEXTABLE \n",
    "WHERE Booster_Version = \"F9 v1.1\";"
   ]
  },
  {
   "cell_type": "markdown",
   "metadata": {},
   "source": [
    "### Task 5 — First Successful Ground Pad Landing  \n",
    "**Why:** Locate milestone for reusability.  \n",
    "**Insight:** Marks the date of the first recovery success on land.  \n",
    "\n",
    "---"
   ]
  },
  {
   "cell_type": "code",
   "execution_count": null,
   "metadata": {},
   "outputs": [],
   "source": [
    "%%sql\n",
    "SELECT MIN(Date) \n",
    "FROM SPACEXTABLE\n",
    "WHERE Landing_Outcome = \"Success (ground pad)\";"
   ]
  },
  {
   "cell_type": "markdown",
   "metadata": {},
   "source": [
    "### Task 6 — Drone Ship Successes with Payloads 4,000–6,000 kg  \n",
    "**Why:** Examine recovery reliability under medium-weight payloads.  \n",
    "**Insight:** Helps correlate payload mass with landing success.  \n",
    "\n",
    "---"
   ]
  },
  {
   "cell_type": "code",
   "execution_count": null,
   "metadata": {},
   "outputs": [],
   "source": [
    "%%sql\n",
    "SELECT Booster_Version \n",
    "FROM SPACEXTABLE\n",
    "WHERE Landing_Outcome = \"Success (drone ship)\"\n",
    "AND \"Payload_Mass__kg_\" > 4000\n",
    "AND \"Payload_Mass__kg_\" < 6000;"
   ]
  },
  {
   "cell_type": "markdown",
   "metadata": {},
   "source": [
    "### Task 7 — Count of Mission Outcomes  \n",
    "**Why:** Assess overall reliability by tallying success vs. failure.  \n",
    "**Insight:** High success ratio validates reusability model.  \n",
    "\n",
    "---"
   ]
  },
  {
   "cell_type": "code",
   "execution_count": null,
   "metadata": {},
   "outputs": [],
   "source": [
    "%%sql\n",
    "SELECT\n",
    "  SUM(CASE WHEN \"Mission_Outcome\" LIKE '%Success%' THEN 1 ELSE 0 END) AS total_success,\n",
    "  SUM(CASE WHEN \"Mission_Outcome\" LIKE '%Failure%' THEN 1 ELSE 0 END) AS total_failure\n",
    "FROM SPACEXTABLE;"
   ]
  },
  {
   "cell_type": "markdown",
   "metadata": {},
   "source": [
    "### Task 8 — Identify the Booster with Maximum Payload  \n",
    "**Why:** Highlight record-setting missions by payload mass.   \n",
    "**Insight:** Demonstrates Falcon 9’s upper limits of payload delivery, a key engineering benchmark.  \n",
    "\n",
    "---"
   ]
  },
  {
   "cell_type": "code",
   "execution_count": null,
   "metadata": {},
   "outputs": [],
   "source": [
    "%%sql\n",
    "SELECT \"Booster_Version\", \"Payload_Mass__kg_\"\n",
    "FROM SPACEXTABLE\n",
    "WHERE \"Payload_Mass__kg_\" = (\n",
    "    SELECT MAX(\"Payload_Mass__kg_\")\n",
    "    FROM SPACEXTABLE\n",
    ");"
   ]
  },
  {
   "cell_type": "markdown",
   "metadata": {},
   "source": [
    "### Task 9 — Drone Ship Failures in 2015  \n",
    "**Why:** Examine early challenges with offshore recovery attempts.  \n",
    "**Insight:** This query highlights failed drone ship landings during 2015, capturing which boosters were involved and when the failures occurred.  \n",
    "\n",
    "---"
   ]
  },
  {
   "cell_type": "code",
   "execution_count": null,
   "metadata": {},
   "outputs": [],
   "source": [
    "%%sql\n",
    "SELECT \n",
    "  SUBSTR(\"Date\", 6, 2) AS month,\n",
    "  \"Landing_Outcome\",\n",
    "  \"Booster_Version\",\n",
    "  \"Launch_Site\"\n",
    "FROM SPACEXTABLE\n",
    "WHERE \n",
    "  \"Landing_Outcome\" LIKE '%Failure%' \n",
    "  AND \"Landing_Outcome\" LIKE '%drone ship%'\n",
    "  AND SUBSTR(\"Date\", 1, 4) = '2015';\n"
   ]
  },
  {
   "cell_type": "markdown",
   "metadata": {},
   "source": [
    "### Task 10 — Distribution of Landing Outcomes (2010–2017)  \n",
    "**Why:** Summarize recovery performance during the critical early years of Falcon 9 launches.  \n",
    "**Insight:** Reveals how often each landing outcome occurred in the early years of Falcon 9 development. This forms the baseline for evaluating SpaceX’s technological progress in rocket reusability.\n",
    "\n",
    "---"
   ]
  },
  {
   "cell_type": "code",
   "execution_count": null,
   "metadata": {},
   "outputs": [],
   "source": [
    "%%sql\n",
    "SELECT \n",
    "  \"Landing_Outcome\",\n",
    "  COUNT(*) AS outcome_count\n",
    "FROM SPACEXTABLE\n",
    "WHERE \n",
    "  \"Date\" BETWEEN '2010-06-04' AND '2017-03-20'\n",
    "GROUP BY \"Landing_Outcome\"\n",
    "ORDER BY outcome_count DESC;\n"
   ]
  },
  {
   "cell_type": "markdown",
   "metadata": {},
   "source": [
    "## Author(s)\n",
    "\n",
    "<h4> Lakshmi Holla </h4>\n"
   ]
  },
  {
   "cell_type": "markdown",
   "metadata": {},
   "source": [
    "## Other Contributors\n",
    "\n",
    "<h4> Rav Ahuja </h4>\n"
   ]
  },
  {
   "cell_type": "markdown",
   "metadata": {},
   "source": [
    "<!--\n",
    "## Change log\n",
    "| Date | Version | Changed by | Change Description |\n",
    "|------|--------|--------|---------|\n",
    "| 2024-07-10 | 1.1 |Anita Verma | Changed Version|\n",
    "| 2021-07-09 | 0.2 |Lakshmi Holla | Changes made in magic sql|\n",
    "| 2021-05-20 | 0.1 |Lakshmi Holla | Created Initial Version |\n",
    "-->\n"
   ]
  },
  {
   "cell_type": "markdown",
   "metadata": {},
   "source": [
    "## <h3 align=\"center\"> © IBM Corporation 2021. All rights reserved. <h3/>\n"
   ]
  }
 ],
 "metadata": {
  "kernelspec": {
   "display_name": "Python 3 (ipykernel)",
   "language": "python",
   "name": "python3"
  },
  "language_info": {
   "codemirror_mode": {
    "name": "ipython",
    "version": 3
   },
   "file_extension": ".py",
   "mimetype": "text/x-python",
   "name": "python",
   "nbconvert_exporter": "python",
   "pygments_lexer": "ipython3",
   "version": "3.10.11"
  },
  "prev_pub_hash": "12df46c3b0654f639da96fac3e05f156ee105e47e0c79adacb1892bc327713de"
 },
 "nbformat": 4,
 "nbformat_minor": 4
}
